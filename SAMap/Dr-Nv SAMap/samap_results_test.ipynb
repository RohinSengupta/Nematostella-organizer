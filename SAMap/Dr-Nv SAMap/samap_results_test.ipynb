{
 "cells": [
  {
   "cell_type": "markdown",
   "metadata": {},
   "source": [
    "# SAMap results\n",
    "With leiden-based neighborhoods"
   ]
  },
  {
   "cell_type": "code",
   "execution_count": null,
   "metadata": {},
   "outputs": [],
   "source": [
    "from samap.mapping import SAMAP\n",
    "from samap.analysis import (sankey_plot, get_mapping_scores)\n",
    "from samalg import SAM\n",
    "import pandas as pd\n",
    "import numpy\n",
    "import seaborn as sns\n",
    "import csv\n",
    "import matplotlib.pyplot as plt\n",
    "from matplotlib.pyplot import rc_context\n",
    "import scanpy as sc\n",
    "import warnings\n",
    "warnings.filterwarnings(action='ignore')\n",
    "import pickle\n",
    "import anndata as ad\n",
    "import holoviews as hv"
   ]
  },
  {
   "cell_type": "markdown",
   "metadata": {},
   "source": [
    "## Read and set parameters"
   ]
  },
  {
   "cell_type": "markdown",
   "metadata": {},
   "source": [
    "Read parameters and SAMap object from preprocessing"
   ]
  },
  {
   "cell_type": "code",
   "execution_count": null,
   "metadata": {},
   "outputs": [],
   "source": [
    "with open('samap_parameters.csv') as f:\n",
    "    config=[tuple(line) for line in csv.reader(f)]\n",
    "\n",
    "config=dict(config)\n",
    "\n",
    "for key,val in config.items():\n",
    "    exec(key + '=val')\n",
    "\n",
    "with open('sam_processed.pkl', 'rb') as inp:\n",
    "    sm = pickle.load(inp)"
   ]
  },
  {
   "cell_type": "markdown",
   "metadata": {},
   "source": [
    "Set new parameters"
   ]
  },
  {
   "cell_type": "code",
   "execution_count": null,
   "metadata": {},
   "outputs": [],
   "source": [
    "# optional cell assignment (one cell per line, output from\n",
    "# R writeLines(seu_object$celltype,con = 'alt_celltypes.txt'))\n",
    "alt_celltype_file_A=\"\"\n",
    "alt_celltype_file_B=\"\"\n",
    "\n",
    "# cell types to be shown extra\n",
    "celltype_selection_A=['Lineage_Notochord', 'Lineage_Prechordal_Plate']\n",
    "celltype_selection_B=['Blastopore Lip' ,'Oral Ectoderm']\n",
    "\n",
    "# show expression for markers (max 5, can get ugly if more)\n",
    "markers_A=['six3a','six3b', \"six4a\", \"six4b\", \"six5\",'dmbx1a','dmbx1b']\n",
    "markers_B=['Six3-6','Six4-5','GSC','FoxA','OtxC','OtxB']"
   ]
  },
  {
   "cell_type": "markdown",
   "metadata": {},
   "source": [
    "Show all parameters"
   ]
  },
  {
   "cell_type": "code",
   "execution_count": null,
   "metadata": {},
   "outputs": [],
   "source": [
    "contrast=sp_stage_A+'_vs_'+sp_stage_B\n",
    "print('contrast: '+contrast)\n",
    "print('alt_celltype_file_A: '+alt_celltype_file_A)\n",
    "print('alt_celltype_file_B: '+alt_celltype_file_B)\n",
    "pd.DataFrame.from_dict(config,orient='index',dtype='str')"
   ]
  },
  {
   "cell_type": "markdown",
   "metadata": {},
   "source": [
    "## Add alternative annotation of celltypes"
   ]
  },
  {
   "cell_type": "code",
   "execution_count": null,
   "metadata": {},
   "outputs": [],
   "source": [
    "celltype_col_A='celltype'\n",
    "celltype_col_B='cell_type'\n",
    "if ( alt_celltype_file_A != \"\" ):\n",
    "    with open(alt_celltype_file_A) as f:\n",
    "        alt_celltypes_A = f.read().splitlines()\n",
    "    sm.sams[abbr_A].adata.obs['cell_type_alt']=alt_celltypes_A\n",
    "    celltype_col_A='cell_type_alt'\n",
    "\n",
    "if ( alt_celltype_file_B != \"\" ):\n",
    "    with open(alt_celltype_file_B) as f:\n",
    "        alt_celltypes_B = f.read().splitlines()\n",
    "    sm.sams[abbr_B].adata.obs['cell_type_alt']=alt_celltypes_B\n",
    "    celltype_col_B='cell_type_alt'\n",
    "\n",
    "concat_ads=ad.concat({sp_stage_A:sm.sams[abbr_A].adata,\n",
    "                     sp_stage_B:sm.sams[abbr_B].adata}, label=\"dataset\")"
   ]
  },
  {
   "cell_type": "markdown",
   "metadata": {},
   "source": [
    "## Visualizing the combined projection"
   ]
  },
  {
   "cell_type": "code",
   "execution_count": null,
   "metadata": {},
   "outputs": [],
   "source": [
    "sc.pl.embedding(concat_ads,\n",
    "                    basis='X_umap_samap',\n",
    "                    color='dataset',\n",
    "                frameon=False,\n",
    "                title='SAMap UMAP '+sp_stage_A+' vs '+sp_stage_B,\n",
    "                palette={sp_stage_A:('#1b9e77',0.8),sp_stage_B:('#d95f02',0.8)})"
   ]
  },
  {
   "cell_type": "markdown",
   "metadata": {},
   "source": [
    "Visualise both objects with celltypes"
   ]
  },
  {
   "cell_type": "code",
   "execution_count": null,
   "metadata": {},
   "outputs": [],
   "source": [
    "sc.pl.embedding(sm.sams[abbr_A].adata,\n",
    "                    basis='X_umap_samap',\n",
    "                    color=celltype_col_A,\n",
    "                title=('SAMap integrated '+sp_stage_A),\n",
    "                    frameon=False,save='_'+sp_stage_A+'_int_celltypes.pdf')\n",
    "sc.pl.embedding(sm.sams[abbr_B].adata,\n",
    "                    basis='X_umap_samap',\n",
    "                title=('SAMap integrated '+sp_stage_B),\n",
    "                    color=celltype_col_B,\n",
    "                    frameon=False,save='_'+sp_stage_B+'_int_celltypes.pdf')"
   ]
  },
  {
   "cell_type": "markdown",
   "metadata": {},
   "source": [
    "### Selected celltype visualisation"
   ]
  },
  {
   "cell_type": "code",
   "execution_count": null,
   "metadata": {},
   "outputs": [],
   "source": [
    "ncols = 3\n",
    "nrows = 1\n",
    "figsize =6.5\n",
    "wspace = 0.3\n",
    "fig, axs = plt.subplots(\n",
    "    nrows=nrows,\n",
    "    ncols=ncols,\n",
    "    figsize=(ncols * figsize + figsize * wspace * (ncols - 1), nrows * figsize),\n",
    ")\n",
    "plt.subplots_adjust(wspace=wspace)\n",
    "\n",
    "sc.pl.embedding(sm.sams[abbr_A].adata,\n",
    "                    basis='X_umap_samap',\n",
    "                    color=celltype_col_A,\n",
    "                    groups=celltype_selection_A,\n",
    "                    frameon=True,\n",
    "                   title=('SAMap integrated '+sp_stage_A),ax=axs[0], show=False)\n",
    "\n",
    "sc.pl.embedding(concat_ads,\n",
    "                    basis='X_umap_samap',\n",
    "                    color='dataset',\n",
    "                frameon=True,\n",
    "                title='Combined by SAMap',\n",
    "                palette={sp_stage_A:('#1b9e77',0.8),sp_stage_B:('#d95f02',0.8)},ax=axs[1],show=False)\n",
    "\n",
    "sc.pl.embedding(sm.sams[abbr_B].adata,\n",
    "                    basis='X_umap_samap',\n",
    "                    color=celltype_col_B,\n",
    "                    groups=celltype_selection_B,\n",
    "                    frameon=True,\n",
    "                   title=('SAMap integrated '+sp_stage_B),ax=axs[2], show=False)"
   ]
  },
  {
   "cell_type": "markdown",
   "metadata": {},
   "source": [
    "### Marker expression species A"
   ]
  },
  {
   "cell_type": "code",
   "execution_count": null,
   "metadata": {},
   "outputs": [],
   "source": [
    "print(sp_stage_A+' markers')\n",
    "with rc_context({\"figure.figsize\": (4, 6)}):\n",
    "    sc.pl.embedding(sm.sams[abbr_A].adata,\n",
    "                    basis='X_umap_samap',\n",
    "                    color=[abbr_A+'_'+x for x in markers_A],\n",
    "                    frameon=False,\n",
    "                    colorbar_loc=None,\n",
    "                    ncols=5)"
   ]
  },
  {
   "cell_type": "markdown",
   "metadata": {},
   "source": [
    "### Marker expresison species B"
   ]
  },
  {
   "cell_type": "code",
   "execution_count": null,
   "metadata": {},
   "outputs": [],
   "source": [
    "print(sp_stage_B+' markers')\n",
    "with rc_context({\"figure.figsize\": (4, 6)}):\n",
    "    sc.pl.embedding(sm.sams[abbr_B].adata,\n",
    "                    basis='X_umap_samap',\n",
    "                    color=[abbr_B+'_'+x for x in markers_B],\n",
    "                    frameon=False,\n",
    "                    colorbar_loc=None,\n",
    "                    ncols=5)"
   ]
  },
  {
   "cell_type": "markdown",
   "metadata": {},
   "source": [
    "### Markers side by side"
   ]
  },
  {
   "cell_type": "code",
   "execution_count": null,
   "metadata": {},
   "outputs": [],
   "source": [
    "single_marker_A = \"six3a\"\n",
    "single_marker_B = \"Six3-6\"\n",
    "\n",
    "fig, axs = plt.subplots(\n",
    "    nrows=1,\n",
    "    ncols=2,\n",
    "    figsize=(10,4),\n",
    ")\n",
    "\n",
    "sc.pl.embedding(sm.sams[abbr_A].adata,\n",
    "                basis='X_umap_samap',\n",
    "                color=[abbr_A+'_'+single_marker_A],\n",
    "                ax=axs[0],show=False)\n",
    "\n",
    "sc.pl.embedding(sm.sams[abbr_B].adata,\n",
    "                basis='X_umap_samap',\n",
    "                color=[abbr_B+'_'+single_marker_B],\n",
    "                ax=axs[1],show=False)\n"
   ]
  },
  {
   "cell_type": "markdown",
   "metadata": {},
   "source": [
    "## Cell type mapping scores"
   ]
  },
  {
   "cell_type": "code",
   "execution_count": null,
   "metadata": {
    "scrolled": true
   },
   "outputs": [],
   "source": [
    "D50_fine,MappingTable50_fine = get_mapping_scores(sm,{abbr_A : celltype_col_A, abbr_B : celltype_col_B},n_top = 50)\n",
    "MappingTable50_fine.filter(like=abbr_A+\"_\").filter(axis='index',like=abbr_B+\"_\").to_csv('Mapping_table_top50_'+contrast+'.csv')"
   ]
  },
  {
   "cell_type": "markdown",
   "metadata": {},
   "source": [
    "Heatmap of celltype homology"
   ]
  },
  {
   "cell_type": "code",
   "execution_count": null,
   "metadata": {},
   "outputs": [],
   "source": [
    "plt.gcf().set_size_inches(len(sm.sams[abbr_B].adata.obs[celltype_col_B].unique())/2,\n",
    "                         (len(sm.sams[abbr_A].adata.obs[celltype_col_A].unique())/2)-1)\n",
    "plt.title('Mapping score '+contrast)\n",
    "sns.heatmap(MappingTable50_fine.filter(like=abbr_A+\"_\").filter(axis='index',like=abbr_B+\"_\"),cmap=\"magma_r\",xticklabels=True,yticklabels=True)#,ax=ax)#[0])\n",
    "plt.savefig('figures/hm_celltype_'+contrast+'.pdf',bbox_inches='tight')\n",
    "plt.savefig('figures/hm_celltype_'+contrast+'.png',dpi=250,bbox_inches='tight')"
   ]
  },
  {
   "cell_type": "markdown",
   "metadata": {},
   "source": [
    "Sankey plot"
   ]
  },
  {
   "cell_type": "code",
   "execution_count": null,
   "metadata": {},
   "outputs": [],
   "source": [
    "sankey_plot(MappingTable50_fine, align_thr=0.05, species_order = [abbr_A,abbr_B])"
   ]
  },
  {
   "cell_type": "markdown",
   "metadata": {},
   "source": [
    "## Others"
   ]
  },
  {
   "cell_type": "markdown",
   "metadata": {},
   "source": [
    "### Export stacked plots"
   ]
  },
  {
   "cell_type": "code",
   "execution_count": null,
   "metadata": {},
   "outputs": [],
   "source": [
    "ncols = 1\n",
    "nrows = 3\n",
    "figsize = 5\n",
    "wspace = 0.3\n",
    "fig, axs = plt.subplots(\n",
    "    nrows=nrows,\n",
    "    ncols=ncols,\n",
    "    figsize=(ncols * figsize + figsize * wspace * (ncols - 1), nrows * figsize),\n",
    ")\n",
    "plt.subplots_adjust(wspace=wspace)\n",
    "\n",
    "sc.pl.embedding(concat_ads,\n",
    "                    basis='X_umap_samap',\n",
    "                    color='dataset',\n",
    "                frameon=True,\n",
    "                title='Combined by SAMap',\n",
    "                size=20,\n",
    "                ax=axs[0],\n",
    "                palette={sp_stage_A:('#1b9e77',0.8),sp_stage_B:('#d95f02',0.8)},\n",
    "               show=False)\n",
    "\n",
    "\n",
    "sc.pl.embedding(sm.sams[abbr_A].adata,\n",
    "                    basis='X_umap_samap',\n",
    "                    color=celltype_col_A,\n",
    "                    frameon=True,\n",
    "                ax=axs[1],\n",
    "                show=False,\n",
    "                title=('SAMap integrated '+sp_stage_A+' celltypes'),\n",
    "               size=20)\n",
    "\n",
    "sc.pl.embedding(sm.sams[abbr_B].adata,\n",
    "                    basis='X_umap_samap',\n",
    "                    color=celltype_col_B,\n",
    "                    frameon=True,\n",
    "                ax=axs[2],\n",
    "                show=False,\n",
    "                title=('SAMap integrated '+sp_stage_B+' celltypes'),\n",
    "               size=20)\n",
    "\n",
    "fig.savefig('figures/comparison_'+contrast+'.pdf',bbox_inches='tight')\n",
    "fig.savefig('figures/comparison_'+contrast+'.png',bbox_inches='tight',dpi=300)"
   ]
  },
  {
   "cell_type": "code",
   "execution_count": null,
   "metadata": {},
   "outputs": [],
   "source": [
    "ncols = 1\n",
    "nrows = 3\n",
    "figsize = 5\n",
    "wspace = 0.3\n",
    "fig, axs = plt.subplots(\n",
    "    nrows=nrows,\n",
    "    ncols=ncols,\n",
    "    figsize=(ncols * figsize + figsize * wspace * (ncols - 1), nrows * figsize),\n",
    ")\n",
    "\n",
    "plt.subplots_adjust(wspace=wspace)\n",
    "\n",
    "sc.pl.embedding(sm.sams[abbr_A].adata,\n",
    "                    basis='X_umap_samap',\n",
    "                    color=celltype_col_A,\n",
    "                    groups=celltype_selection_A,\n",
    "                    frameon=True,\n",
    "                   title=('SAMap integrated '+sp_stage_A+' celltypes'),ax=axs[1], show=False,size=20)\n",
    "\n",
    "sc.pl.embedding(concat_ads,\n",
    "                    basis='X_umap_samap',\n",
    "                    color='dataset',\n",
    "                frameon=True,\n",
    "                title='Combined by SAMap',\n",
    "                size=20,\n",
    "                palette={sp_stage_A:('#1b9e77',0.8),sp_stage_B:('#d95f02',0.8)},ax=axs[0],show=False)\n",
    "\n",
    "sc.pl.embedding(sm.sams[abbr_B].adata,\n",
    "                    basis='X_umap_samap',\n",
    "                    color=celltype_col_B,\n",
    "                    groups=celltype_selection_B,\n",
    "                    frameon=True,\n",
    "                size=20,\n",
    "               title=('SAMap integrated '+sp_stage_B+' celltypes'), ax=axs[2])\n",
    "\n",
    "fig.savefig('figures/comparison_selection_'+contrast+'.pdf',bbox_inches='tight')\n",
    "fig.savefig('figures/comparison_selection_'+contrast+'.png',bbox_inches='tight',dpi=300)"
   ]
  },
  {
   "cell_type": "markdown",
   "metadata": {},
   "source": [
    "### Export UMAP of SAMap integration"
   ]
  },
  {
   "cell_type": "code",
   "execution_count": null,
   "metadata": {},
   "outputs": [],
   "source": [
    "pd.DataFrame(concat_ads.obsm['X_umap_samap'],index=concat_ads.obs_names).to_csv('umap_samap_'+contrast+'.csv',header=False)"
   ]
  },
  {
   "cell_type": "code",
   "execution_count": null,
   "metadata": {},
   "outputs": [],
   "source": []
  }
 ],
 "metadata": {
  "kernelspec": {
   "display_name": "Python 3 (ipykernel)",
   "language": "python",
   "name": "python3"
  },
  "language_info": {
   "codemirror_mode": {
    "name": "ipython",
    "version": 3
   },
   "file_extension": ".py",
   "mimetype": "text/x-python",
   "name": "python",
   "nbconvert_exporter": "python",
   "pygments_lexer": "ipython3",
   "version": "3.9.13"
  }
 },
 "nbformat": 4,
 "nbformat_minor": 4
}
