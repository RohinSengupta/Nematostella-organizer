{
 "cells": [
  {
   "cell_type": "markdown",
   "metadata": {},
   "source": [
    "# SAMap preprocess\n",
    "With leiden-based neighborhoods"
   ]
  },
  {
   "cell_type": "code",
   "execution_count": null,
   "metadata": {},
   "outputs": [],
   "source": [
    "from samap.mapping import SAMAP\n",
    "from samalg import SAM\n",
    "import pandas as pd\n",
    "import scanpy as sc\n",
    "import matplotlib.pyplot as plt\n",
    "import csv\n",
    "import warnings\n",
    "warnings.filterwarnings(action='ignore')\n",
    "import pickle\n",
    "\n",
    "def save_object(obj, filename):\n",
    "    with open(filename, 'wb') as outp:  # Overwrites any existing file.\n",
    "        pickle.dump(obj, outp, pickle.HIGHEST_PROTOCOL)"
   ]
  },
  {
   "cell_type": "markdown",
   "metadata": {},
   "source": [
    "## Set parameters"
   ]
  },
  {
   "cell_type": "code",
   "execution_count": null,
   "metadata": {},
   "outputs": [],
   "source": [
    "# species A\n",
    "sp_stage_A='AmpG4'\n",
    "abbr_A='bf' # must be equal to filename under blast map folder\n",
    "h5ad_A='Amp_G4.h5ad'\n",
    "\n",
    "# species B\n",
    "sp_stage_B='NV24hr'\n",
    "abbr_B='nv' # must be equal to filename under blast map folder\n",
    "h5ad_B='Gastrula24hrFINAL.h5ad'\n",
    "\n",
    "# blast maps and id maps\n",
    "g_map_folder='./maps_prot/'"
   ]
  },
  {
   "cell_type": "markdown",
   "metadata": {},
   "source": [
    "## Read gene name mapping"
   ]
  },
  {
   "cell_type": "markdown",
   "metadata": {},
   "source": [
    "Parse mapping of transcript ids vs gene names used in the anndata object"
   ]
  },
  {
   "cell_type": "code",
   "execution_count": null,
   "metadata": {},
   "outputs": [],
   "source": [
    "with open(g_map_folder+'/'+abbr_A+'_idmap.csv') as f:\n",
    "    idmap_A=[tuple(line) for line in csv.reader(f)][2:]\n",
    "\n",
    "with open(g_map_folder+'/'+abbr_B+'_idmap.csv') as f:\n",
    "    idmap_B=[tuple(line) for line in csv.reader(f)][2:]\n",
    "\n",
    "print(abbr_A+\" first five gene ids:\")\n",
    "print(idmap_A[:5])\n",
    "print(abbr_B+\" first five gene ids:\")\n",
    "print(idmap_B[:5])"
   ]
  },
  {
   "cell_type": "markdown",
   "metadata": {},
   "source": [
    "# Running SAMap"
   ]
  },
  {
   "cell_type": "markdown",
   "metadata": {},
   "source": [
    "## Loading in raw data"
   ]
  },
  {
   "cell_type": "markdown",
   "metadata": {},
   "source": [
    "Instantiate the SAMAP object."
   ]
  },
  {
   "cell_type": "code",
   "execution_count": null,
   "metadata": {},
   "outputs": [],
   "source": [
    "sm = SAMAP(\n",
    "        {abbr_A : h5ad_A , abbr_B : h5ad_B},\n",
    "        f_maps = g_map_folder,\n",
    "        names = {abbr_A : idmap_A , abbr_B : idmap_B},\n",
    "        save_processed=False\n",
    "    )"
   ]
  },
  {
   "cell_type": "markdown",
   "metadata": {},
   "source": [
    "Show unintegrated umaps."
   ]
  },
  {
   "cell_type": "code",
   "execution_count": null,
   "metadata": {},
   "outputs": [],
   "source": [
    "sc.pl.embedding(sm.sams[abbr_A].adata,\n",
    "                    basis='X_umap',\n",
    "                    color='celltype_fine',\n",
    "                title=(sp_stage_A+' Unintegrated'),\n",
    "                    frameon=False)\n",
    "\n",
    "sc.pl.embedding(sm.sams[abbr_B].adata,\n",
    "                    basis='X_umap',\n",
    "                title=(sp_stage_B+' Unintegrated'),\n",
    "                    color='cell_type',\n",
    "                    frameon=False)"
   ]
  },
  {
   "cell_type": "markdown",
   "metadata": {},
   "source": [
    "## Run SAMap"
   ]
  },
  {
   "cell_type": "code",
   "execution_count": null,
   "metadata": {},
   "outputs": [],
   "source": [
    "sm.run(ncpus=4)"
   ]
  },
  {
   "cell_type": "markdown",
   "metadata": {},
   "source": [
    "Save samap object."
   ]
  },
  {
   "cell_type": "code",
   "execution_count": null,
   "metadata": {},
   "outputs": [],
   "source": [
    "save_object(sm,'sam_processed.pkl')"
   ]
  },
  {
   "cell_type": "markdown",
   "metadata": {},
   "source": [
    "## Visualizing the combined projection"
   ]
  },
  {
   "cell_type": "code",
   "execution_count": null,
   "metadata": {},
   "outputs": [],
   "source": [
    "fig, ax = plt.subplots()\n",
    "fig.set_figwidth(5)\n",
    "fig.set_figheight(5)\n",
    "fig.tight_layout()\n",
    "ax.set_title('SAMap UMAP '+sp_stage_A+' (red) vs '+sp_stage_B+' (blue)')\n",
    "sm.scatter(COLORS={abbr_B:'#10b9f1',abbr_A:'#f14810'},axes=ax,ss={abbr_A:5,abbr_B:5},alpha=0.5)"
   ]
  },
  {
   "cell_type": "markdown",
   "metadata": {},
   "source": [
    "# Save parameters"
   ]
  },
  {
   "cell_type": "code",
   "execution_count": null,
   "metadata": {},
   "outputs": [],
   "source": [
    "params_d={\n",
    "'sp_stage_A' : sp_stage_A,\n",
    "'abbr_A' : abbr_A,\n",
    "'h5ad_A' : h5ad_A,\n",
    "'sp_stage_B' : sp_stage_B,\n",
    "'abbr_B' : abbr_B,\n",
    "'h5ad_B' : h5ad_B,\n",
    "'g_map_folder' : g_map_folder}\n",
    "\n",
    "pd.DataFrame.from_dict(data=params_d, orient='index').to_csv('samap_parameters.csv', header=False)"
   ]
  },
  {
   "cell_type": "code",
   "execution_count": null,
   "metadata": {},
   "outputs": [],
   "source": []
  }
 ],
 "metadata": {
  "kernelspec": {
   "display_name": "Python 3 (ipykernel)",
   "language": "python",
   "name": "python3"
  },
  "language_info": {
   "codemirror_mode": {
    "name": "ipython",
    "version": 3
   },
   "file_extension": ".py",
   "mimetype": "text/x-python",
   "name": "python",
   "nbconvert_exporter": "python",
   "pygments_lexer": "ipython3",
   "version": "3.9.13"
  }
 },
 "nbformat": 4,
 "nbformat_minor": 4
}
